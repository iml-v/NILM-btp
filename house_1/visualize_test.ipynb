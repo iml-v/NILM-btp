{
  "nbformat": 4,
  "nbformat_minor": 0,
  "metadata": {
    "colab": {
      "name": "Untitled2.ipynb",
      "version": "0.3.2",
      "provenance": []
    },
    "kernelspec": {
      "name": "python3",
      "display_name": "Python 3"
    }
  },
  "cells": [
    {
      "cell_type": "code",
      "metadata": {
        "id": "nx6zX0QL5CZH",
        "colab_type": "code",
        "colab": {}
      },
      "source": [
        "import pandas as pd\n",
        "import numpy as np"
      ],
      "execution_count": 0,
      "outputs": []
    },
    {
      "cell_type": "code",
      "metadata": {
        "id": "VunfVbln6KOs",
        "colab_type": "code",
        "colab": {}
      },
      "source": [
        "utc_timestamp_mains_1=[]\n",
        "utc_timestamp_mains_2=[]\n",
        "value_mains_1=[]\n",
        "value_mains_2=[]\n"
      ],
      "execution_count": 0,
      "outputs": []
    },
    {
      "cell_type": "code",
      "metadata": {
        "id": "0IK1Ytz06Qhh",
        "colab_type": "code",
        "colab": {}
      },
      "source": [
        "f=open('mains_1.dat','r')\n",
        "data=f.readlines()\n",
        "for line in data:\n",
        "    word=line.split()\n",
        "    utc_timestamp_mains_1.append(word[0])\n",
        "    value_mains_1.append(word[1])\n",
        "f.close()"
      ],
      "execution_count": 0,
      "outputs": []
    },
    {
      "cell_type": "code",
      "metadata": {
        "id": "01KAXQKZ6WUx",
        "colab_type": "code",
        "colab": {}
      },
      "source": [
        "f=open('mains_2.dat','r')\n",
        "data=f.readlines()\n",
        "for line in data:\n",
        "    word=line.split()\n",
        "    utc_timestamp_mains_2.append(word[0])\n",
        "    value_mains_2.append(word[1])\n",
        "f.close()\n"
      ],
      "execution_count": 0,
      "outputs": []
    },
    {
      "cell_type": "code",
      "metadata": {
        "id": "EIRJsy3i6asG",
        "colab_type": "code",
        "outputId": "bbe3a14a-a9f0-4ca7-f0b5-c341e0860e20",
        "colab": {
          "base_uri": "https://localhost:8080/",
          "height": 102
        }
      },
      "source": [
        "print('1.len of time: ',len(utc_timestamp_mains_1))\n",
        "print('1.len of value: ',len(value_mains_1))\n",
        "\n",
        "print('2.len of time: ',len(utc_timestamp_mains_2))\n",
        "print('2.len of value: ',len(value_mains_2))\n",
        "\n",
        "if(utc_timestamp_mains_1==utc_timestamp_mains_2):\n",
        "    print('equal')\n",
        "else:\n",
        "    print('unequal')\n"
      ],
      "execution_count": 5,
      "outputs": [
        {
          "output_type": "stream",
          "text": [
            "1.len of time:  1561660\n",
            "1.len of value:  1561660\n",
            "2.len of time:  1561660\n",
            "2.len of value:  1561660\n",
            "equal\n"
          ],
          "name": "stdout"
        }
      ]
    },
    {
      "cell_type": "code",
      "metadata": {
        "id": "1qSJVEsu6fl5",
        "colab_type": "code",
        "outputId": "d121f125-6c97-4a74-f081-410de409739f",
        "colab": {
          "base_uri": "https://localhost:8080/",
          "height": 1000
        }
      },
      "source": [
        "main_df=pd.DataFrame({'time_frame':utc_timestamp_mains_1,'mains_1_value':value_mains_1,'mains_2_value':value_mains_2},index=utc_timestamp_mains_1)\n",
        "print('len of data',len(main_df))\n",
        "print(main_df.head)\n"
      ],
      "execution_count": 6,
      "outputs": [
        {
          "output_type": "stream",
          "text": [
            "len of data 1561660\n",
            "<bound method NDFrame.head of             time_frame mains_1_value mains_2_value\n",
            "1303132929  1303132929        224.19        118.63\n",
            "1303132930  1303132930        225.57        118.99\n",
            "1303132931  1303132931        226.09        119.05\n",
            "1303132932  1303132932        222.74        118.94\n",
            "1303132933  1303132933        222.20        118.83\n",
            "1303132934  1303132934        222.11        118.69\n",
            "1303132935  1303132935        223.14        119.07\n",
            "1303132936  1303132936        223.17        119.19\n",
            "1303132937  1303132937        222.25        119.10\n",
            "1303132938  1303132938        222.64        119.17\n",
            "1303132939  1303132939        221.88        118.84\n",
            "1303132940  1303132940        223.60        118.92\n",
            "1303132941  1303132941        222.21        119.07\n",
            "1303132942  1303132942        222.82        119.22\n",
            "1303132943  1303132943        222.91        119.16\n",
            "1303132944  1303132944        222.81        119.05\n",
            "1303132945  1303132945        221.64        118.72\n",
            "1303132946  1303132946        222.94        118.83\n",
            "1303132947  1303132947        222.43        119.11\n",
            "1303132948  1303132948        221.98        118.99\n",
            "1303132949  1303132949        222.30        118.86\n",
            "1303132950  1303132950        222.90        118.76\n",
            "1303132951  1303132951        222.56        118.38\n",
            "1303132952  1303132952        222.38        118.77\n",
            "1303132953  1303132953        222.96        118.88\n",
            "1303132954  1303132954        222.95        119.07\n",
            "1303132955  1303132955        221.77        118.88\n",
            "1303132956  1303132956        224.60        118.97\n",
            "1303132957  1303132957        222.54        118.36\n",
            "1303132958  1303132958        223.17        118.95\n",
            "...                ...           ...           ...\n",
            "1306266993  1306266993        234.64         38.77\n",
            "1306266994  1306266994        235.29         38.83\n",
            "1306266995  1306266995        234.86         38.83\n",
            "1306266996  1306266996        234.38         38.71\n",
            "1306266997  1306266997        235.87         38.83\n",
            "1306266998  1306266998        236.40         38.79\n",
            "1306266999  1306266999        238.91         38.86\n",
            "1306267000  1306267000        237.50         38.72\n",
            "1306267001  1306267001        234.40         38.69\n",
            "1306267002  1306267002        234.74         38.91\n",
            "1306267003  1306267003        234.67         38.93\n",
            "1306267004  1306267004        235.34         38.79\n",
            "1306267005  1306267005        234.01         38.70\n",
            "1306267006  1306267006        234.82         38.75\n",
            "1306267007  1306267007        235.10         38.72\n",
            "1306267008  1306267008        234.99         38.68\n",
            "1306267009  1306267009        234.38         38.64\n",
            "1306267010  1306267010        234.52         38.59\n",
            "1306267011  1306267011        235.02         38.74\n",
            "1306267012  1306267012        237.02         38.70\n",
            "1306267013  1306267013        235.11         38.90\n",
            "1306267014  1306267014        234.86         38.76\n",
            "1306267015  1306267015        235.21         38.80\n",
            "1306267016  1306267016        235.55         38.70\n",
            "1306267017  1306267017        234.88         38.77\n",
            "1306267018  1306267018        234.44         38.72\n",
            "1306267019  1306267019        235.57         38.53\n",
            "1306267020  1306267020        234.77         38.62\n",
            "1306267021  1306267021        235.55         38.71\n",
            "1306267022  1306267022        235.43         38.84\n",
            "\n",
            "[1561660 rows x 3 columns]>\n"
          ],
          "name": "stdout"
        }
      ]
    },
    {
      "cell_type": "code",
      "metadata": {
        "id": "DH1L2FAgHB9G",
        "colab_type": "code",
        "colab": {}
      },
      "source": [
        "main_df.to_csv(\"maindf.csv\")"
      ],
      "execution_count": 0,
      "outputs": []
    },
    {
      "cell_type": "code",
      "metadata": {
        "id": "OHTxJJRu6kgY",
        "colab_type": "code",
        "outputId": "4c0a6f18-580e-4665-a271-a1d063bb5aae",
        "colab": {
          "base_uri": "https://localhost:8080/",
          "height": 119
        }
      },
      "source": [
        "df1=pd.DataFrame({'col1':[1,2,3,4,5],'col2':[5,4,3,2,1]},index=['one','two','three','four','five'])\n",
        "df1.head"
      ],
      "execution_count": 0,
      "outputs": [
        {
          "output_type": "execute_result",
          "data": {
            "text/plain": [
              "<bound method NDFrame.head of        col1  col2\n",
              "one       1     5\n",
              "two       2     4\n",
              "three     3     3\n",
              "four      4     2\n",
              "five      5     1>"
            ]
          },
          "metadata": {
            "tags": []
          },
          "execution_count": 8
        }
      ]
    },
    {
      "cell_type": "code",
      "metadata": {
        "id": "IuWlmAcd8VI8",
        "colab_type": "code",
        "colab": {}
      },
      "source": [
        "utc_timestamp_stove=[]\n",
        "value_stove=[]\n",
        "f=open('stove.dat','r')\n",
        "data=f.readlines()\n",
        "for line in data:\n",
        "    word=line.split()\n",
        "    utc_timestamp_stove.append(word[0])\n",
        "    value_stove.append(word[1])\n",
        "f.close()\n",
        "df_stove=pd.DataFrame({'stove_value':value_stove},index=utc_timestamp_stove)"
      ],
      "execution_count": 0,
      "outputs": []
    },
    {
      "cell_type": "code",
      "metadata": {
        "id": "qPKPMzQm_TL3",
        "colab_type": "code",
        "outputId": "61440dc9-03b5-490e-8aec-6acf0cacf969",
        "colab": {
          "base_uri": "https://localhost:8080/",
          "height": 34
        }
      },
      "source": [
        "set(df_stove.index).issubset(set(df.index))"
      ],
      "execution_count": 0,
      "outputs": [
        {
          "output_type": "execute_result",
          "data": {
            "text/plain": [
              "False"
            ]
          },
          "metadata": {
            "tags": []
          },
          "execution_count": 18
        }
      ]
    },
    {
      "cell_type": "code",
      "metadata": {
        "id": "Za6CXi6R_mWR",
        "colab_type": "code",
        "colab": {}
      },
      "source": [
        "df_stove"
      ],
      "execution_count": 0,
      "outputs": []
    },
    {
      "cell_type": "code",
      "metadata": {
        "id": "OCuQgkbzEL-A",
        "colab_type": "code",
        "colab": {}
      },
      "source": [
        "df"
      ],
      "execution_count": 0,
      "outputs": []
    },
    {
      "cell_type": "code",
      "metadata": {
        "id": "i7JOn34BEPMr",
        "colab_type": "code",
        "colab": {}
      },
      "source": [
        "utc_timestamp_stove"
      ],
      "execution_count": 0,
      "outputs": []
    },
    {
      "cell_type": "code",
      "metadata": {
        "id": "2kBUD6mVEu0W",
        "colab_type": "code",
        "colab": {}
      },
      "source": [
        "utc_timestamp_mains_1\n"
      ],
      "execution_count": 0,
      "outputs": []
    },
    {
      "cell_type": "code",
      "metadata": {
        "id": "y910Jc9KEydi",
        "colab_type": "code",
        "outputId": "6f1513fc-359a-4193-c651-784d4d97e379",
        "colab": {
          "base_uri": "https://localhost:8080/",
          "height": 34
        }
      },
      "source": [
        "set(utc_timestamp_stove).issubset(set(utc_timestamp_mains_1))"
      ],
      "execution_count": 0,
      "outputs": [
        {
          "output_type": "execute_result",
          "data": {
            "text/plain": [
              "False"
            ]
          },
          "metadata": {
            "tags": []
          },
          "execution_count": 23
        }
      ]
    },
    {
      "cell_type": "code",
      "metadata": {
        "id": "g0xs7qKCE7f-",
        "colab_type": "code",
        "colab": {}
      },
      "source": [
        "dif=set(utc_timestamp_stove).difference(set(utc_timestamp_mains_1))"
      ],
      "execution_count": 0,
      "outputs": []
    },
    {
      "cell_type": "code",
      "metadata": {
        "id": "2b1cg9I1FQEB",
        "colab_type": "code",
        "outputId": "7f24e0fd-b17f-4c23-a59f-86c27e4e23da",
        "colab": {
          "base_uri": "https://localhost:8080/",
          "height": 68
        }
      },
      "source": [
        "print('difference',len(dif))\n",
        "print('main',len(df))\n",
        "print('stove',len(df_stove))"
      ],
      "execution_count": 0,
      "outputs": [
        {
          "output_type": "stream",
          "text": [
            "difference 339130\n",
            "main 1561660\n",
            "stove 745878\n"
          ],
          "name": "stdout"
        }
      ]
    },
    {
      "cell_type": "code",
      "metadata": {
        "id": "CVlmbzGPFZI-",
        "colab_type": "code",
        "colab": {}
      },
      "source": [
        "utc_timestamp_elecheat=[]\n",
        "value_elecheat=[]\n",
        "f=open('electric_heat.dat','r')\n",
        "data=f.readlines()\n",
        "for line in data:\n",
        "    word=line.split()\n",
        "    utc_timestamp_elecheat.append(word[0])\n",
        "    value_elecheat.append(word[1])\n",
        "f.close()\n",
        "df_elecheat=pd.DataFrame({'elecheat_value':value_elecheat},index=utc_timestamp_elecheat)"
      ],
      "execution_count": 0,
      "outputs": []
    },
    {
      "cell_type": "code",
      "metadata": {
        "id": "fqw9Azb3Uhw5",
        "colab_type": "code",
        "outputId": "d98c3fcd-097d-44d2-c453-65c03802d2f2",
        "colab": {
          "base_uri": "https://localhost:8080/",
          "height": 68
        }
      },
      "source": [
        "dif_elecheat=set(utc_timestamp_elecheat).difference(set(utc_timestamp_mains_1))\n",
        "print('difference',len(dif_elecheat))\n",
        "print('main',len(df))\n",
        "print('stove',len(df_elecheat))\n"
      ],
      "execution_count": 0,
      "outputs": [
        {
          "output_type": "stream",
          "text": [
            "difference 339130\n",
            "main 1561660\n",
            "stove 745878\n"
          ],
          "name": "stdout"
        }
      ]
    },
    {
      "cell_type": "code",
      "metadata": {
        "id": "oVtiDjemU_3S",
        "colab_type": "code",
        "colab": {}
      },
      "source": [
        "utc_timestamp_light1=[]\n",
        "value_light1=[]\n",
        "f=open('lighting_1.dat','r')\n",
        "data=f.readlines()\n",
        "for line in data:\n",
        "    word=line.split()\n",
        "    utc_timestamp_light1.append(word[0])\n",
        "    value_light1.append(word[1])\n",
        "f.close()\n",
        "df_light1=pd.DataFrame({'light1_value':value_light1},index=utc_timestamp_light1)"
      ],
      "execution_count": 0,
      "outputs": []
    },
    {
      "cell_type": "code",
      "metadata": {
        "id": "s-_7LJvFV7vo",
        "colab_type": "code",
        "outputId": "8d98e0ca-8dbe-4664-bb9a-2e5424d0cfb8",
        "colab": {
          "base_uri": "https://localhost:8080/",
          "height": 68
        }
      },
      "source": [
        "dif_light1=set(utc_timestamp_light1).difference(set(utc_timestamp_mains_1))\n",
        "print('difference',len(dif_light1))\n",
        "print('main',len(df))\n",
        "print('stove',len(df_light1))\n"
      ],
      "execution_count": 0,
      "outputs": [
        {
          "output_type": "stream",
          "text": [
            "difference 339130\n",
            "main 1561660\n",
            "stove 745878\n"
          ],
          "name": "stdout"
        }
      ]
    },
    {
      "cell_type": "code",
      "metadata": {
        "id": "0aow9gnfV8BH",
        "colab_type": "code",
        "colab": {}
      },
      "source": [
        ""
      ],
      "execution_count": 0,
      "outputs": []
    }
  ]
}