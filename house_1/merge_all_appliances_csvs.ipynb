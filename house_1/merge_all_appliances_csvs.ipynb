{
 "cells": [
  {
   "cell_type": "code",
   "execution_count": 39,
   "metadata": {},
   "outputs": [
    {
     "name": "stdout",
     "output_type": "stream",
     "text": [
      "done\n",
      "dishwasher.dat.csv is done\n",
      "electric_heat.dat.csv is done\n",
      "kitchen_outlets_1.dat.csv is done\n",
      "kitchen_outlets_2.dat.csv is done\n",
      "kitchen_outlets_3.dat.csv is done\n",
      "kitchen_outlets_4.dat.csv is done\n",
      "lighting_1.dat.csv is done\n",
      "lighting_2.dat.csv is done\n",
      "lighting_3.dat.csv is done\n",
      "microwave.dat.csv is done\n",
      "oven_1.dat.csv is done\n",
      "oven_2.dat.csv is done\n",
      "refrigerator.dat.csv is done\n",
      "stove.dat.csv is done\n",
      "washer_dryer_1.dat.csv is done\n",
      "washer_dryer_2.dat.csv is done\n",
      "washer_dryer_3.dat.csv is done\n"
     ]
    }
   ],
   "source": [
    "import pandas as pd\n",
    "import os\n",
    "path = 'D:/BTP Project/Data_low_freq_house_1/Data_csv/'\n",
    "\n",
    "files = []\n",
    "# r=root, d=directories, f = files\n",
    "for r, d, f in os.walk(path):\n",
    "    for file in f:\n",
    "        if '.dat' in file:\n",
    "            files.append(file)\n",
    "names_col = [\"timestamp\", \"value\"]\n",
    "\n",
    "df0 =  pd.read_csv(path+files[0],names=names_col,header=0)\n",
    "print('done')\n",
    "for i in range(1,len(files)):\n",
    "    split_name = files[i].split('.')\n",
    "    df =  pd.read_csv(path+files[i],names=names_col,header=0)\n",
    "    df0 = pd.merge(df,df0,on='timestamp',suffixes=('','_'+split_name[0])) #rsuffix=files[i])#suffixes=('',files[i]))\n",
    "    print(files[i], 'is done')\n",
    "    \n",
    "\n",
    "df0.to_csv(path+\"all_appliances_merged.csv\")\n"
   ]
  },
  {
   "cell_type": "code",
   "execution_count": null,
   "metadata": {},
   "outputs": [],
   "source": []
  }
 ],
 "metadata": {
  "kernelspec": {
   "display_name": "Python 3",
   "language": "python",
   "name": "python3"
  },
  "language_info": {
   "codemirror_mode": {
    "name": "ipython",
    "version": 3
   },
   "file_extension": ".py",
   "mimetype": "text/x-python",
   "name": "python",
   "nbconvert_exporter": "python",
   "pygments_lexer": "ipython3",
   "version": "3.5.6"
  }
 },
 "nbformat": 4,
 "nbformat_minor": 2
}
